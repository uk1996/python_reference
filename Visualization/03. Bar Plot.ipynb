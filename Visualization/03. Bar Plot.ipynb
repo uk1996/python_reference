{
 "cells": [
  {
   "cell_type": "code",
   "execution_count": 1,
   "id": "bda4816c",
   "metadata": {},
   "outputs": [],
   "source": [
    "import numpy as np\n",
    "import matplotlib.pyplot as plt"
   ]
  },
  {
   "cell_type": "markdown",
   "id": "89d83c2d",
   "metadata": {},
   "source": [
    "## Bar Plot Basics"
   ]
  },
  {
   "cell_type": "code",
   "execution_count": null,
   "id": "6c1f2679",
   "metadata": {},
   "outputs": [],
   "source": []
  }
 ],
 "metadata": {
  "kernelspec": {
   "display_name": "Python 3 (ipykernel)",
   "language": "python",
   "name": "python3"
  },
  "language_info": {
   "codemirror_mode": {
    "name": "ipython",
    "version": 3
   },
   "file_extension": ".py",
   "mimetype": "text/x-python",
   "name": "python",
   "nbconvert_exporter": "python",
   "pygments_lexer": "ipython3",
   "version": "3.8.5"
  }
 },
 "nbformat": 4,
 "nbformat_minor": 5
}
